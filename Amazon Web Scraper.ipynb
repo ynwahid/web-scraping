{
 "cells": [
  {
   "cell_type": "markdown",
   "id": "9ef2d07d",
   "metadata": {},
   "source": [
    "# Amazon Web Scraper\n",
    "### Requirements:\n",
    "- Selenium\n",
    "- BeautifulSoup"
   ]
  },
  {
   "cell_type": "code",
   "execution_count": 1,
   "id": "98043347",
   "metadata": {},
   "outputs": [],
   "source": [
    "import csv\n",
    "from bs4 import BeautifulSoup"
   ]
  },
  {
   "cell_type": "code",
   "execution_count": 2,
   "id": "1fddd16d",
   "metadata": {},
   "outputs": [],
   "source": [
    "# Firefox and Chrome\n",
    "from selenium import webdriver"
   ]
  },
  {
   "cell_type": "markdown",
   "id": "4499a1fb",
   "metadata": {},
   "source": [
    "## Startup the webdriver"
   ]
  },
  {
   "cell_type": "code",
   "execution_count": 3,
   "id": "32410308",
   "metadata": {},
   "outputs": [],
   "source": [
    "# Firefox & chrome\n",
    "driver = webdriver.Chrome()"
   ]
  },
  {
   "cell_type": "code",
   "execution_count": 4,
   "id": "a7efaf1b",
   "metadata": {},
   "outputs": [],
   "source": [
    "url = 'https://www.amazon.com'\n",
    "driver.get(url)"
   ]
  },
  {
   "cell_type": "code",
   "execution_count": 5,
   "id": "903ea14f",
   "metadata": {},
   "outputs": [],
   "source": [
    "def get_url(search_term):\n",
    "    \"\"\"Generate a url from search term\"\"\"\n",
    "    template = 'https://www.amazon.com/s?k={}&ref=nb_sb_noss_1'\n",
    "    search_term = search_term.replace(' ', '+')\n",
    "    return template.format(search_term)"
   ]
  },
  {
   "cell_type": "code",
   "execution_count": 6,
   "id": "83580167",
   "metadata": {},
   "outputs": [
    {
     "name": "stdout",
     "output_type": "stream",
     "text": [
      "https://www.amazon.com/s?k=ultrawide+monitor&ref=nb_sb_noss_1\n"
     ]
    }
   ],
   "source": [
    "url = get_url('ultrawide monitor')\n",
    "print(url)"
   ]
  },
  {
   "cell_type": "code",
   "execution_count": 7,
   "id": "261bd467",
   "metadata": {},
   "outputs": [],
   "source": [
    "driver.get(url)"
   ]
  },
  {
   "cell_type": "markdown",
   "id": "e504999e",
   "metadata": {},
   "source": [
    "## Extract the collection"
   ]
  },
  {
   "cell_type": "code",
   "execution_count": 8,
   "id": "43fded60",
   "metadata": {},
   "outputs": [],
   "source": [
    "soup = BeautifulSoup(driver.page_source, 'html.parser')"
   ]
  },
  {
   "cell_type": "code",
   "execution_count": 9,
   "id": "1e75b5d9",
   "metadata": {},
   "outputs": [],
   "source": [
    "results = soup.find_all('div', {'data-component-type': 's-search-result'})"
   ]
  },
  {
   "cell_type": "code",
   "execution_count": 10,
   "id": "a012d20d",
   "metadata": {},
   "outputs": [
    {
     "data": {
      "text/plain": [
       "22"
      ]
     },
     "execution_count": 10,
     "metadata": {},
     "output_type": "execute_result"
    }
   ],
   "source": [
    "len(results)"
   ]
  },
  {
   "cell_type": "markdown",
   "id": "f435aa80",
   "metadata": {},
   "source": [
    "## Prototype the record"
   ]
  },
  {
   "cell_type": "code",
   "execution_count": 11,
   "id": "d970ae32",
   "metadata": {},
   "outputs": [],
   "source": [
    "item = results[0]"
   ]
  },
  {
   "cell_type": "code",
   "execution_count": 12,
   "id": "c4d1aab7",
   "metadata": {},
   "outputs": [],
   "source": [
    "atag = item.h2.a"
   ]
  },
  {
   "cell_type": "code",
   "execution_count": 13,
   "id": "58c89da1",
   "metadata": {},
   "outputs": [],
   "source": [
    "description = atag.text.strip().replace(u'\\xa0', u' ')"
   ]
  },
  {
   "cell_type": "code",
   "execution_count": 14,
   "id": "d58c2184",
   "metadata": {},
   "outputs": [],
   "source": [
    "url = 'https://www.amazon.com' + atag.get('href')"
   ]
  },
  {
   "cell_type": "code",
   "execution_count": 15,
   "id": "8aef8dbc",
   "metadata": {},
   "outputs": [],
   "source": [
    "price_parent = item.find('span', 'a-price')"
   ]
  },
  {
   "cell_type": "code",
   "execution_count": 16,
   "id": "4f4abcb0",
   "metadata": {},
   "outputs": [],
   "source": [
    "price = price_parent.find('span', 'a-offscreen').text"
   ]
  },
  {
   "cell_type": "code",
   "execution_count": 17,
   "id": "1a3f4e22",
   "metadata": {},
   "outputs": [],
   "source": [
    "rating = item.i.text"
   ]
  },
  {
   "cell_type": "code",
   "execution_count": 21,
   "id": "2b50c944",
   "metadata": {},
   "outputs": [],
   "source": [
    "review_count = item.find('span', {'class': 'a-size-base'}).text"
   ]
  },
  {
   "cell_type": "code",
   "execution_count": 22,
   "id": "53ae5ccb-53a1-452d-9839-2beb2982f999",
   "metadata": {},
   "outputs": [
    {
     "data": {
      "text/plain": [
       "'31'"
      ]
     },
     "execution_count": 22,
     "metadata": {},
     "output_type": "execute_result"
    }
   ],
   "source": [
    "review_count"
   ]
  },
  {
   "cell_type": "markdown",
   "id": "fd72abe8",
   "metadata": {},
   "source": [
    "## Generalise the pattern"
   ]
  },
  {
   "cell_type": "code",
   "execution_count": 19,
   "id": "25697fe5",
   "metadata": {},
   "outputs": [],
   "source": [
    "def extract_record(item):\n",
    "    \"\"\"Extract and return data from a single record\"\"\"\n",
    "    \n",
    "    # description and url\n",
    "    atag = item.h2.a\n",
    "    description = atag.text.strip().replace(u'\\xa0', u' ')\n",
    "    url = 'https://www.amazon.com' + atag.get('href')\n",
    "    \n",
    "    # price\n",
    "    price_parent = item.find('span', 'a-price')\n",
    "    price = price_parent.find('span', 'a-offscreen').text\n",
    "    \n",
    "    # rank and rating\n",
    "    rating = item.i.text\n",
    "    review_count = item.find('span', {'class': 'a-size-base a-color-base s-underline-text'}).text\n",
    "    \n",
    "    result = (description, price, rating, review_count, url)\n",
    "    return result"
   ]
  },
  {
   "cell_type": "code",
   "execution_count": 20,
   "id": "8cf7721a",
   "metadata": {},
   "outputs": [
    {
     "ename": "AttributeError",
     "evalue": "'NoneType' object has no attribute 'text'",
     "output_type": "error",
     "traceback": [
      "\u001b[0;31m---------------------------------------------------------------------------\u001b[0m",
      "\u001b[0;31mAttributeError\u001b[0m                            Traceback (most recent call last)",
      "\u001b[0;32m/tmp/ipykernel_31292/1699794264.py\u001b[0m in \u001b[0;36m<module>\u001b[0;34m\u001b[0m\n\u001b[1;32m      3\u001b[0m \u001b[0;34m\u001b[0m\u001b[0m\n\u001b[1;32m      4\u001b[0m \u001b[0;32mfor\u001b[0m \u001b[0mitem\u001b[0m \u001b[0;32min\u001b[0m \u001b[0mresults\u001b[0m\u001b[0;34m:\u001b[0m\u001b[0;34m\u001b[0m\u001b[0;34m\u001b[0m\u001b[0m\n\u001b[0;32m----> 5\u001b[0;31m     \u001b[0mrecords\u001b[0m\u001b[0;34m.\u001b[0m\u001b[0mappend\u001b[0m\u001b[0;34m(\u001b[0m\u001b[0mextract_record\u001b[0m\u001b[0;34m(\u001b[0m\u001b[0mitem\u001b[0m\u001b[0;34m)\u001b[0m\u001b[0;34m)\u001b[0m\u001b[0;34m\u001b[0m\u001b[0;34m\u001b[0m\u001b[0m\n\u001b[0m",
      "\u001b[0;32m/tmp/ipykernel_31292/1585172759.py\u001b[0m in \u001b[0;36mextract_record\u001b[0;34m(item)\u001b[0m\n\u001b[1;32m     13\u001b[0m     \u001b[0;31m# rank and rating\u001b[0m\u001b[0;34m\u001b[0m\u001b[0;34m\u001b[0m\u001b[0;34m\u001b[0m\u001b[0m\n\u001b[1;32m     14\u001b[0m     \u001b[0mrating\u001b[0m \u001b[0;34m=\u001b[0m \u001b[0mitem\u001b[0m\u001b[0;34m.\u001b[0m\u001b[0mi\u001b[0m\u001b[0;34m.\u001b[0m\u001b[0mtext\u001b[0m\u001b[0;34m\u001b[0m\u001b[0;34m\u001b[0m\u001b[0m\n\u001b[0;32m---> 15\u001b[0;31m     \u001b[0mreview_count\u001b[0m \u001b[0;34m=\u001b[0m \u001b[0mitem\u001b[0m\u001b[0;34m.\u001b[0m\u001b[0mfind\u001b[0m\u001b[0;34m(\u001b[0m\u001b[0;34m'span'\u001b[0m\u001b[0;34m,\u001b[0m \u001b[0;34m{\u001b[0m\u001b[0;34m'class'\u001b[0m\u001b[0;34m:\u001b[0m \u001b[0;34m'a-size-base a-color-base s-underline-text'\u001b[0m\u001b[0;34m}\u001b[0m\u001b[0;34m)\u001b[0m\u001b[0;34m.\u001b[0m\u001b[0mtext\u001b[0m\u001b[0;34m\u001b[0m\u001b[0;34m\u001b[0m\u001b[0m\n\u001b[0m\u001b[1;32m     16\u001b[0m \u001b[0;34m\u001b[0m\u001b[0m\n\u001b[1;32m     17\u001b[0m     \u001b[0mresult\u001b[0m \u001b[0;34m=\u001b[0m \u001b[0;34m(\u001b[0m\u001b[0mdescription\u001b[0m\u001b[0;34m,\u001b[0m \u001b[0mprice\u001b[0m\u001b[0;34m,\u001b[0m \u001b[0mrating\u001b[0m\u001b[0;34m,\u001b[0m \u001b[0mreview_count\u001b[0m\u001b[0;34m,\u001b[0m \u001b[0murl\u001b[0m\u001b[0;34m)\u001b[0m\u001b[0;34m\u001b[0m\u001b[0;34m\u001b[0m\u001b[0m\n",
      "\u001b[0;31mAttributeError\u001b[0m: 'NoneType' object has no attribute 'text'"
     ]
    }
   ],
   "source": [
    "records = []\n",
    "results = soup.find_all('div', {'data-component-type': 's-search-result'})\n",
    "\n",
    "for item in results:\n",
    "    records.append(extract_record(item))"
   ]
  },
  {
   "cell_type": "markdown",
   "id": "aaa21d09",
   "metadata": {},
   "source": [
    "## Error handling"
   ]
  },
  {
   "cell_type": "code",
   "execution_count": 39,
   "id": "cb012688",
   "metadata": {},
   "outputs": [],
   "source": [
    "def extract_record(item):\n",
    "    \"\"\"Extract and return data from a single record\"\"\"\n",
    "    \n",
    "    # description and url\n",
    "    atag = item.h2.a\n",
    "    description = atag.text.strip().replace(u'\\xa0', u' ')\n",
    "    url = 'https://www.amazon.com' + atag.get('href')\n",
    "    \n",
    "    try:\n",
    "        # price\n",
    "        price_parent = item.find('span', 'a-price')\n",
    "        price = price_parent.find('span', 'a-offscreen').text\n",
    "    except AttributeError:\n",
    "        return\n",
    "    \n",
    "    try:\n",
    "        # rank and rating\n",
    "        rating = item.i.text\n",
    "        review_count = item.find('span', {'class': 'a-size-base a-color-base s-underline-text'}).text\n",
    "    except AttributeError:\n",
    "        rating = ''\n",
    "        review_count = ''\n",
    "    \n",
    "    result = (description, price, rating, review_count, url)\n",
    "    return result"
   ]
  },
  {
   "cell_type": "code",
   "execution_count": 41,
   "id": "5c64d7cd",
   "metadata": {},
   "outputs": [],
   "source": [
    "records = []\n",
    "results = soup.find_all('div', {'data-component-type': 's-search-result'})\n",
    "\n",
    "for item in results:\n",
    "    record = extract_record(item)\n",
    "    if record:\n",
    "        records.append(record)"
   ]
  },
  {
   "cell_type": "code",
   "execution_count": 42,
   "id": "e12d5b96",
   "metadata": {},
   "outputs": [
    {
     "data": {
      "text/plain": [
       "('SAMSUNG 34 Inch Ultrawide QHD Curved Monitor, 100hz, 1440p Monitor, Computer Monitor, 1000R Curved, USB-C, HDR10, Vertical Monitor, TUV-Certified Intelligent Eye Care, S65UA (LS34A650UXNXGO)',\n",
       " '$649.99',\n",
       " '4.1 out of 5 stars',\n",
       " '34',\n",
       " 'https://www.amazon.com/gp/slredirect/picassoRedirect.html/ref=pa_sp_atf_aps_sr_pg1_1?ie=UTF8&adId=A001299824R6GD09EHQKN&url=%2FSAMSUNG-Adjustable-TUV-Certified-Intelligent-LS34A650UXNXGO%2Fdp%2FB08V71HXY3%2Fref%3Dsr_1_1_sspa%3Fdchild%3D1%26keywords%3Dultrawide%2Bmonitor%26qid%3D1635857315%26sr%3D8-1-spons%26psc%3D1&qualifier=1635857315&id=3153756395255054&widgetName=sp_atf')"
      ]
     },
     "execution_count": 42,
     "metadata": {},
     "output_type": "execute_result"
    }
   ],
   "source": [
    "records[0]"
   ]
  },
  {
   "cell_type": "code",
   "execution_count": 43,
   "id": "ba83793f",
   "metadata": {},
   "outputs": [
    {
     "name": "stdout",
     "output_type": "stream",
     "text": [
      "$649.99\n",
      "$315.07\n",
      "$249.99\n",
      "$357.26\n",
      "$309.99\n",
      "$239.99\n",
      "$499.99\n",
      "$549.99\n",
      "$32.99\n",
      "$399.99\n",
      "$249.99\n",
      "$598.99\n",
      "$429.97\n",
      "$549.99\n",
      "$397.99\n",
      "$687.65\n",
      "$329.99\n",
      "$149.99\n",
      "$279.23\n"
     ]
    }
   ],
   "source": [
    "for row in records:\n",
    "    print(row[1])"
   ]
  },
  {
   "cell_type": "markdown",
   "id": "a7153e38",
   "metadata": {},
   "source": [
    "## Getting the next page"
   ]
  },
  {
   "cell_type": "code",
   "execution_count": 44,
   "id": "133bfd9c",
   "metadata": {},
   "outputs": [],
   "source": [
    "def get_url(search_term):\n",
    "    \"\"\"Generate a url from search term\"\"\"\n",
    "    template = 'https://www.amazon.com/s?k={}&ref=nb_sb_noss_1'\n",
    "    search_term = search_term.replace(' ', '+')\n",
    "    return template.format(search_term)\n",
    "\n",
    "    # add term query to url\n",
    "    url = template.format(search_term)\n",
    "    \n",
    "    # add place query to placeholder\n",
    "    url += '&page{}'\n",
    "    \n",
    "    return url"
   ]
  },
  {
   "cell_type": "markdown",
   "id": "41a35231",
   "metadata": {},
   "source": [
    "## Putting all together"
   ]
  },
  {
   "cell_type": "code",
   "execution_count": 23,
   "id": "c80ce55e",
   "metadata": {},
   "outputs": [],
   "source": [
    "import csv\n",
    "from bs4 import BeautifulSoup\n",
    "\n",
    "# Firefox and Chrome\n",
    "from selenium import webdriver\n",
    "\n",
    "\n",
    "def get_url(search_term):\n",
    "    \"\"\"Generate a url from search term\"\"\"\n",
    "    template = 'https://www.amazon.com/s?k={}&ref=nb_sb_noss_1'\n",
    "    search_term = search_term.replace(' ', '+')\n",
    "    return template.format(search_term)\n",
    "\n",
    "    # add term query to url\n",
    "    url = template.format(search_term)\n",
    "    \n",
    "    # add place query to placeholder\n",
    "    url += '&page{}'\n",
    "    \n",
    "    return url\n",
    "\n",
    "def extract_record(item):\n",
    "    \"\"\"Extract and return data from a single record\"\"\"\n",
    "    \n",
    "    # description and url\n",
    "    atag = item.h2.a\n",
    "    description = atag.text.strip().replace(u'\\xa0', u' ')\n",
    "    url = 'https://www.amazon.com' + atag.get('href')\n",
    "    \n",
    "    try:\n",
    "        # price\n",
    "        price_parent = item.find('span', 'a-price')\n",
    "        price = price_parent.find('span', 'a-offscreen').text\n",
    "    except AttributeError:\n",
    "        return\n",
    "    \n",
    "    try:\n",
    "        # rank and rating\n",
    "        rating = item.i.text\n",
    "        review_count = item.find('span', {'class': 'a-size-base'}).text\n",
    "    except AttributeError:\n",
    "        rating = ''\n",
    "        review_count = ''\n",
    "    \n",
    "    result = (description, price, rating, review_count, url)\n",
    "    return result\n",
    "\n",
    "def main(search_term):\n",
    "    \"\"\"Run main program routine\"\"\"\n",
    "    # start the webdriver\n",
    "    driver = webdriver.Chrome()\n",
    "    \n",
    "    records = []\n",
    "    url = get_url(search_term)\n",
    "    \n",
    "    for page in range(1, 21):\n",
    "        driver.get(url.format(page))\n",
    "        soup = BeautifulSoup(driver.page_source, 'html.parser')\n",
    "        results = soup.find_all('div', {'data-component-type': 's-search-result'})\n",
    "        \n",
    "        for item in results:\n",
    "            record = extract_record(item)\n",
    "            if record:\n",
    "                records.append(record)\n",
    "    \n",
    "    driver.close()\n",
    "    \n",
    "    # save data to csv file\n",
    "    with open('results.csv', 'w', newline='', encoding='utf-8') as f:\n",
    "        writer = csv.writer(f)\n",
    "        writer.writerow(['Description', 'Price', 'Rating', 'ReviewCount', 'Url'])\n",
    "        writer.writerows(records)"
   ]
  },
  {
   "cell_type": "code",
   "execution_count": 24,
   "id": "520cc24f",
   "metadata": {},
   "outputs": [],
   "source": [
    "main('ultrawide monitor')"
   ]
  }
 ],
 "metadata": {
  "kernelspec": {
   "display_name": "Python 3 (ipykernel)",
   "language": "python",
   "name": "python3"
  },
  "language_info": {
   "codemirror_mode": {
    "name": "ipython",
    "version": 3
   },
   "file_extension": ".py",
   "mimetype": "text/x-python",
   "name": "python",
   "nbconvert_exporter": "python",
   "pygments_lexer": "ipython3",
   "version": "3.8.10"
  }
 },
 "nbformat": 4,
 "nbformat_minor": 5
}
